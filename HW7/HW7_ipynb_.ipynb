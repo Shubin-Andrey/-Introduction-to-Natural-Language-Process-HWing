{
  "nbformat": 4,
  "nbformat_minor": 0,
  "metadata": {
    "colab": {
      "provenance": []
    },
    "kernelspec": {
      "display_name": "Python 3",
      "language": "python",
      "name": "python3"
    },
    "language_info": {
      "codemirror_mode": {
        "name": "ipython",
        "version": 3
      },
      "file_extension": ".py",
      "mimetype": "text/x-python",
      "name": "python",
      "nbconvert_exporter": "python",
      "pygments_lexer": "ipython3",
      "version": "3.8.3"
    }
  },
  "cells": [
    {
      "cell_type": "markdown",
      "source": [
        "Берем отызывы за лето (из архива с материалами или предыдущего занятия)\n",
        "1. Учим conv сеть для классификации\n",
        "2. Рассмотреть 2-а варианта сеточек\n",
        "2.1 Инициализировать tf.keras.layers.Embedding предобученными векторами взять к примеру с https://rusvectores.org/ru/\n",
        "2.2 Инициализировать слой tf.keras.layers.Embedding по умолчанию (ну то есть вам ничего не делать с весами)\n",
        "Сравнить две архитектуры с предобученными весами и когда tf.keras.layers.Embedding обучается сразу со всей сеточкой, что получилось лучше\n"
      ],
      "metadata": {
        "id": "59b5k5F_3L-v"
      }
    },
    {
      "cell_type": "code",
      "metadata": {
        "id": "2H5tFUEMCE7d"
      },
      "source": [
        "max_words = 200\n",
        "max_len = 40\n",
        "num_classes = 1\n",
        "\n",
        "# Training\n",
        "epochs = 20\n",
        "batch_size = 512\n",
        "print_batch_n = 100"
      ],
      "execution_count": null,
      "outputs": []
    },
    {
      "cell_type": "code",
      "metadata": {
        "id": "LUCk-5M2yg3S"
      },
      "source": [
        "import pandas as pd\n",
        "\n",
        "df_train = pd.read_excel(\"/content/отзывы за лето (1).xls\")"
      ],
      "execution_count": null,
      "outputs": []
    },
    {
      "cell_type": "code",
      "metadata": {
        "colab": {
          "base_uri": "https://localhost:8080/",
          "height": 206
        },
        "id": "KBSf-OfDzWOI",
        "outputId": "8c5c4d40-e3f4-48f7-bdb9-82b928a744b4"
      },
      "source": [
        "df_train.head(5)"
      ],
      "execution_count": null,
      "outputs": [
        {
          "output_type": "execute_result",
          "data": {
            "text/plain": [
              "   Rating                                            Content        Date\n",
              "0       5                                     It just works!  2017-08-14\n",
              "1       4  В целом удобноное приложение...из минусов хотя...  2017-08-14\n",
              "2       5                                        Отлично все  2017-08-14\n",
              "3       5  Стал зависать на 1% работы антивируса. Дальше ...  2017-08-14\n",
              "4       5                     Очень удобно, работает быстро.  2017-08-14"
            ],
            "text/html": [
              "\n",
              "  <div id=\"df-2852e8e7-4378-44c2-9be6-c8c0e2a90027\">\n",
              "    <div class=\"colab-df-container\">\n",
              "      <div>\n",
              "<style scoped>\n",
              "    .dataframe tbody tr th:only-of-type {\n",
              "        vertical-align: middle;\n",
              "    }\n",
              "\n",
              "    .dataframe tbody tr th {\n",
              "        vertical-align: top;\n",
              "    }\n",
              "\n",
              "    .dataframe thead th {\n",
              "        text-align: right;\n",
              "    }\n",
              "</style>\n",
              "<table border=\"1\" class=\"dataframe\">\n",
              "  <thead>\n",
              "    <tr style=\"text-align: right;\">\n",
              "      <th></th>\n",
              "      <th>Rating</th>\n",
              "      <th>Content</th>\n",
              "      <th>Date</th>\n",
              "    </tr>\n",
              "  </thead>\n",
              "  <tbody>\n",
              "    <tr>\n",
              "      <th>0</th>\n",
              "      <td>5</td>\n",
              "      <td>It just works!</td>\n",
              "      <td>2017-08-14</td>\n",
              "    </tr>\n",
              "    <tr>\n",
              "      <th>1</th>\n",
              "      <td>4</td>\n",
              "      <td>В целом удобноное приложение...из минусов хотя...</td>\n",
              "      <td>2017-08-14</td>\n",
              "    </tr>\n",
              "    <tr>\n",
              "      <th>2</th>\n",
              "      <td>5</td>\n",
              "      <td>Отлично все</td>\n",
              "      <td>2017-08-14</td>\n",
              "    </tr>\n",
              "    <tr>\n",
              "      <th>3</th>\n",
              "      <td>5</td>\n",
              "      <td>Стал зависать на 1% работы антивируса. Дальше ...</td>\n",
              "      <td>2017-08-14</td>\n",
              "    </tr>\n",
              "    <tr>\n",
              "      <th>4</th>\n",
              "      <td>5</td>\n",
              "      <td>Очень удобно, работает быстро.</td>\n",
              "      <td>2017-08-14</td>\n",
              "    </tr>\n",
              "  </tbody>\n",
              "</table>\n",
              "</div>\n",
              "      <button class=\"colab-df-convert\" onclick=\"convertToInteractive('df-2852e8e7-4378-44c2-9be6-c8c0e2a90027')\"\n",
              "              title=\"Convert this dataframe to an interactive table.\"\n",
              "              style=\"display:none;\">\n",
              "        \n",
              "  <svg xmlns=\"http://www.w3.org/2000/svg\" height=\"24px\"viewBox=\"0 0 24 24\"\n",
              "       width=\"24px\">\n",
              "    <path d=\"M0 0h24v24H0V0z\" fill=\"none\"/>\n",
              "    <path d=\"M18.56 5.44l.94 2.06.94-2.06 2.06-.94-2.06-.94-.94-2.06-.94 2.06-2.06.94zm-11 1L8.5 8.5l.94-2.06 2.06-.94-2.06-.94L8.5 2.5l-.94 2.06-2.06.94zm10 10l.94 2.06.94-2.06 2.06-.94-2.06-.94-.94-2.06-.94 2.06-2.06.94z\"/><path d=\"M17.41 7.96l-1.37-1.37c-.4-.4-.92-.59-1.43-.59-.52 0-1.04.2-1.43.59L10.3 9.45l-7.72 7.72c-.78.78-.78 2.05 0 2.83L4 21.41c.39.39.9.59 1.41.59.51 0 1.02-.2 1.41-.59l7.78-7.78 2.81-2.81c.8-.78.8-2.07 0-2.86zM5.41 20L4 18.59l7.72-7.72 1.47 1.35L5.41 20z\"/>\n",
              "  </svg>\n",
              "      </button>\n",
              "      \n",
              "  <style>\n",
              "    .colab-df-container {\n",
              "      display:flex;\n",
              "      flex-wrap:wrap;\n",
              "      gap: 12px;\n",
              "    }\n",
              "\n",
              "    .colab-df-convert {\n",
              "      background-color: #E8F0FE;\n",
              "      border: none;\n",
              "      border-radius: 50%;\n",
              "      cursor: pointer;\n",
              "      display: none;\n",
              "      fill: #1967D2;\n",
              "      height: 32px;\n",
              "      padding: 0 0 0 0;\n",
              "      width: 32px;\n",
              "    }\n",
              "\n",
              "    .colab-df-convert:hover {\n",
              "      background-color: #E2EBFA;\n",
              "      box-shadow: 0px 1px 2px rgba(60, 64, 67, 0.3), 0px 1px 3px 1px rgba(60, 64, 67, 0.15);\n",
              "      fill: #174EA6;\n",
              "    }\n",
              "\n",
              "    [theme=dark] .colab-df-convert {\n",
              "      background-color: #3B4455;\n",
              "      fill: #D2E3FC;\n",
              "    }\n",
              "\n",
              "    [theme=dark] .colab-df-convert:hover {\n",
              "      background-color: #434B5C;\n",
              "      box-shadow: 0px 1px 3px 1px rgba(0, 0, 0, 0.15);\n",
              "      filter: drop-shadow(0px 1px 2px rgba(0, 0, 0, 0.3));\n",
              "      fill: #FFFFFF;\n",
              "    }\n",
              "  </style>\n",
              "\n",
              "      <script>\n",
              "        const buttonEl =\n",
              "          document.querySelector('#df-2852e8e7-4378-44c2-9be6-c8c0e2a90027 button.colab-df-convert');\n",
              "        buttonEl.style.display =\n",
              "          google.colab.kernel.accessAllowed ? 'block' : 'none';\n",
              "\n",
              "        async function convertToInteractive(key) {\n",
              "          const element = document.querySelector('#df-2852e8e7-4378-44c2-9be6-c8c0e2a90027');\n",
              "          const dataTable =\n",
              "            await google.colab.kernel.invokeFunction('convertToInteractive',\n",
              "                                                     [key], {});\n",
              "          if (!dataTable) return;\n",
              "\n",
              "          const docLinkHtml = 'Like what you see? Visit the ' +\n",
              "            '<a target=\"_blank\" href=https://colab.research.google.com/notebooks/data_table.ipynb>data table notebook</a>'\n",
              "            + ' to learn more about interactive tables.';\n",
              "          element.innerHTML = '';\n",
              "          dataTable['output_type'] = 'display_data';\n",
              "          await google.colab.output.renderOutput(dataTable, element);\n",
              "          const docLink = document.createElement('div');\n",
              "          docLink.innerHTML = docLinkHtml;\n",
              "          element.appendChild(docLink);\n",
              "        }\n",
              "      </script>\n",
              "    </div>\n",
              "  </div>\n",
              "  "
            ]
          },
          "metadata": {},
          "execution_count": 5
        }
      ]
    },
    {
      "cell_type": "code",
      "source": [
        "df_train['Rating'].value_counts()"
      ],
      "metadata": {
        "colab": {
          "base_uri": "https://localhost:8080/"
        },
        "id": "-lz64Ej15Q8Y",
        "outputId": "41d6aa38-22f0-4f5c-fb50-f7432140a3e3"
      },
      "execution_count": null,
      "outputs": [
        {
          "output_type": "execute_result",
          "data": {
            "text/plain": [
              "5    14586\n",
              "1     2276\n",
              "4     2138\n",
              "3      911\n",
              "2      748\n",
              "Name: Rating, dtype: int64"
            ]
          },
          "metadata": {},
          "execution_count": 6
        }
      ]
    },
    {
      "cell_type": "markdown",
      "source": [
        "Это ниразу не отзывы про лето!"
      ],
      "metadata": {
        "id": "_ka6sntZ5mZm"
      }
    },
    {
      "cell_type": "markdown",
      "metadata": {
        "id": "qEyvOxoOJDTP"
      },
      "source": [
        "### Предобработка"
      ]
    },
    {
      "cell_type": "code",
      "source": [
        "!pip install stop_words"
      ],
      "metadata": {
        "colab": {
          "base_uri": "https://localhost:8080/"
        },
        "id": "ulJn3Tlf5t6O",
        "outputId": "1560bec7-fc14-4334-d7c6-7baa93c1825e"
      },
      "execution_count": null,
      "outputs": [
        {
          "output_type": "stream",
          "name": "stdout",
          "text": [
            "Looking in indexes: https://pypi.org/simple, https://us-python.pkg.dev/colab-wheels/public/simple/\n",
            "Collecting stop_words\n",
            "  Downloading stop-words-2018.7.23.tar.gz (31 kB)\n",
            "Building wheels for collected packages: stop-words\n",
            "  Building wheel for stop-words (setup.py) ... \u001b[?25l\u001b[?25hdone\n",
            "  Created wheel for stop-words: filename=stop_words-2018.7.23-py3-none-any.whl size=32910 sha256=8d4584bebe6b78daea8d1a34392c33247b84442244df81b1606d4a4e95f14885\n",
            "  Stored in directory: /root/.cache/pip/wheels/eb/03/0d/3bd31c983789aeb0b4d5e2ca48590288d9db1586cf5f225062\n",
            "Successfully built stop-words\n",
            "Installing collected packages: stop-words\n",
            "Successfully installed stop-words-2018.7.23\n"
          ]
        }
      ]
    },
    {
      "cell_type": "code",
      "source": [
        "!pip install pymorphy2"
      ],
      "metadata": {
        "colab": {
          "base_uri": "https://localhost:8080/"
        },
        "id": "3mZ_atDi523F",
        "outputId": "e1d45edd-a036-43fb-c6df-beff3d8d1515"
      },
      "execution_count": null,
      "outputs": [
        {
          "output_type": "stream",
          "name": "stdout",
          "text": [
            "Looking in indexes: https://pypi.org/simple, https://us-python.pkg.dev/colab-wheels/public/simple/\n",
            "Collecting pymorphy2\n",
            "  Downloading pymorphy2-0.9.1-py3-none-any.whl (55 kB)\n",
            "\u001b[K     |████████████████████████████████| 55 kB 3.6 MB/s \n",
            "\u001b[?25hCollecting pymorphy2-dicts-ru<3.0,>=2.4\n",
            "  Downloading pymorphy2_dicts_ru-2.4.417127.4579844-py2.py3-none-any.whl (8.2 MB)\n",
            "\u001b[K     |████████████████████████████████| 8.2 MB 29.4 MB/s \n",
            "\u001b[?25hCollecting dawg-python>=0.7.1\n",
            "  Downloading DAWG_Python-0.7.2-py2.py3-none-any.whl (11 kB)\n",
            "Collecting docopt>=0.6\n",
            "  Downloading docopt-0.6.2.tar.gz (25 kB)\n",
            "Building wheels for collected packages: docopt\n",
            "  Building wheel for docopt (setup.py) ... \u001b[?25l\u001b[?25hdone\n",
            "  Created wheel for docopt: filename=docopt-0.6.2-py2.py3-none-any.whl size=13723 sha256=1da27c6f5d1b27dc53dbee8b3c2def69df5255fb6b3bee626aeddde4e1dde9ba\n",
            "  Stored in directory: /root/.cache/pip/wheels/56/ea/58/ead137b087d9e326852a851351d1debf4ada529b6ac0ec4e8c\n",
            "Successfully built docopt\n",
            "Installing collected packages: pymorphy2-dicts-ru, docopt, dawg-python, pymorphy2\n",
            "Successfully installed dawg-python-0.7.2 docopt-0.6.2 pymorphy2-0.9.1 pymorphy2-dicts-ru-2.4.417127.4579844\n"
          ]
        }
      ]
    },
    {
      "cell_type": "code",
      "metadata": {
        "id": "SDzBpCv9MgY7"
      },
      "source": [
        "from string import punctuation\n",
        "from stop_words import get_stop_words\n",
        "from pymorphy2 import MorphAnalyzer\n",
        "import re\n",
        "from sklearn.model_selection import train_test_split"
      ],
      "execution_count": null,
      "outputs": []
    },
    {
      "cell_type": "code",
      "source": [
        "X_train, X_test, y_train, y_test = train_test_split(df_train['Content'], df_train['Rating'], test_size=0.2, random_state=42)"
      ],
      "metadata": {
        "id": "l3oH72DX6H4-"
      },
      "execution_count": null,
      "outputs": []
    },
    {
      "cell_type": "code",
      "metadata": {
        "id": "VMnTsX0mMgY8"
      },
      "source": [
        "sw = set(get_stop_words(\"ru\"))\n",
        "exclude = set(punctuation)\n",
        "morpher = MorphAnalyzer()\n",
        "\n",
        "def preprocess_text(txt):\n",
        "    txt = str(txt)\n",
        "    txt = \"\".join(c for c in txt if c not in exclude)\n",
        "    txt = txt.lower()\n",
        "    txt = re.sub(\"\\sне\", \"не\", txt)\n",
        "    txt = [morpher.parse(word)[0].normal_form for word in txt.split() if word not in sw]\n",
        "    return \" \".join(txt)\n",
        "\n",
        "X_train = X_train.apply(preprocess_text)"
      ],
      "execution_count": null,
      "outputs": []
    },
    {
      "cell_type": "code",
      "source": [
        "X_train[:5]"
      ],
      "metadata": {
        "colab": {
          "base_uri": "https://localhost:8080/"
        },
        "id": "RYq109EG6u_m",
        "outputId": "90955773-d6da-4bb8-d731-c56c4c7a578a"
      },
      "execution_count": null,
      "outputs": [
        {
          "output_type": "execute_result",
          "data": {
            "text/plain": [
              "2680                                  удобно\n",
              "844        приходить смс код вход приложение\n",
              "18714                         удобно понятно\n",
              "13842    удобный приложение работать отлично\n",
              "11974                     удобный приложение\n",
              "Name: Content, dtype: object"
            ]
          },
          "metadata": {},
          "execution_count": 12
        }
      ]
    },
    {
      "cell_type": "code",
      "source": [
        "X_test = X_test.apply(preprocess_text)"
      ],
      "metadata": {
        "id": "qEvx3QrP60S1"
      },
      "execution_count": null,
      "outputs": []
    },
    {
      "cell_type": "code",
      "metadata": {
        "id": "C4o9QgmWI3Pw"
      },
      "source": [
        "train_corpus = \" \".join(X_train)\n",
        "train_corpus = train_corpus.lower()"
      ],
      "execution_count": null,
      "outputs": []
    },
    {
      "cell_type": "code",
      "metadata": {
        "colab": {
          "base_uri": "https://localhost:8080/"
        },
        "id": "Hed2ySbwJH6B",
        "outputId": "cef70df3-b951-4d38-e799-6c13106640cd"
      },
      "source": [
        "import nltk\n",
        "from nltk.tokenize import word_tokenize\n",
        "nltk.download(\"punkt\")\n",
        "\n",
        "tokens = word_tokenize(train_corpus)"
      ],
      "execution_count": null,
      "outputs": [
        {
          "output_type": "stream",
          "name": "stderr",
          "text": [
            "[nltk_data] Downloading package punkt to /root/nltk_data...\n",
            "[nltk_data]   Unzipping tokenizers/punkt.zip.\n"
          ]
        }
      ]
    },
    {
      "cell_type": "code",
      "metadata": {
        "id": "EXOLVK1tJLT8",
        "colab": {
          "base_uri": "https://localhost:8080/"
        },
        "outputId": "bc1de4a3-74ed-4927-da93-921c6148dbfb"
      },
      "source": [
        "tokens_filtered = [word for word in tokens if word.isalnum()]\n",
        "tokens_filtered[:5] "
      ],
      "execution_count": null,
      "outputs": [
        {
          "output_type": "execute_result",
          "data": {
            "text/plain": [
              "['удобно', 'приходить', 'смс', 'код', 'вход']"
            ]
          },
          "metadata": {},
          "execution_count": 16
        }
      ]
    },
    {
      "cell_type": "code",
      "metadata": {
        "id": "8qCQH5nIJoiB"
      },
      "source": [
        "from nltk.probability import FreqDist\n",
        "dist = FreqDist(tokens_filtered)\n",
        "tokens_filtered_top = [pair[0] for pair in dist.most_common(max_words-1)]"
      ],
      "execution_count": null,
      "outputs": []
    },
    {
      "cell_type": "code",
      "metadata": {
        "colab": {
          "base_uri": "https://localhost:8080/"
        },
        "id": "bRQ-6wwjJrGo",
        "outputId": "82b5f5c8-6ec6-4d0f-f246-3456fdc27e08"
      },
      "source": [
        "tokens_filtered_top[:10]"
      ],
      "execution_count": null,
      "outputs": [
        {
          "output_type": "execute_result",
          "data": {
            "text/plain": [
              "['приложение',\n",
              " 'удобно',\n",
              " 'работать',\n",
              " 'удобный',\n",
              " 'отлично',\n",
              " 'нравиться',\n",
              " 'отличный',\n",
              " 'хороший',\n",
              " 'телефон',\n",
              " 'супер']"
            ]
          },
          "metadata": {},
          "execution_count": 18
        }
      ]
    },
    {
      "cell_type": "code",
      "metadata": {
        "id": "Tdk777qGJtz4"
      },
      "source": [
        "vocabulary = {v: k for k, v in dict(enumerate(tokens_filtered_top, 1)).items()}"
      ],
      "execution_count": null,
      "outputs": []
    },
    {
      "cell_type": "code",
      "metadata": {
        "id": "5OULZgvkJzpj"
      },
      "source": [
        "import numpy as np\n",
        "\n",
        "def text_to_sequence(text, maxlen):\n",
        "    result = []\n",
        "    tokens = word_tokenize(text.lower())\n",
        "    tokens_filtered = [word for word in tokens if word.isalnum()]\n",
        "    for word in tokens_filtered:\n",
        "        if word in vocabulary:\n",
        "            result.append(vocabulary[word])\n",
        "    padding = [0]*(maxlen-len(result))\n",
        "    return padding + result[-maxlen:]"
      ],
      "execution_count": null,
      "outputs": []
    },
    {
      "cell_type": "code",
      "metadata": {
        "id": "pqHlf5nNJ2hl"
      },
      "source": [
        "x_train = np.asarray([text_to_sequence(text, max_len) for text in X_train], dtype=np.int32)\n",
        "x_test = np.asarray([text_to_sequence(text, max_len) for text in X_test], dtype=np.int32)"
      ],
      "execution_count": null,
      "outputs": []
    },
    {
      "cell_type": "code",
      "metadata": {
        "colab": {
          "base_uri": "https://localhost:8080/"
        },
        "id": "lI4NUg_TJ6NK",
        "outputId": "e5e542e6-325b-48b2-bc0e-12318fc1f25f"
      },
      "source": [
        "x_train.shape"
      ],
      "execution_count": null,
      "outputs": [
        {
          "output_type": "execute_result",
          "data": {
            "text/plain": [
              "(16527, 40)"
            ]
          },
          "metadata": {},
          "execution_count": 22
        }
      ]
    },
    {
      "cell_type": "code",
      "metadata": {
        "id": "Qy2tdf9zMgY_",
        "outputId": "e57fabcb-eba9-4a34-c334-21433a35d6ff",
        "colab": {
          "base_uri": "https://localhost:8080/"
        }
      },
      "source": [
        "max_len"
      ],
      "execution_count": null,
      "outputs": [
        {
          "output_type": "execute_result",
          "data": {
            "text/plain": [
              "40"
            ]
          },
          "metadata": {},
          "execution_count": 23
        }
      ]
    },
    {
      "cell_type": "code",
      "metadata": {
        "colab": {
          "base_uri": "https://localhost:8080/"
        },
        "id": "9QlLvXd9KDf3",
        "outputId": "70a8a448-daa9-48b0-bc93-db343e5cb0ce"
      },
      "source": [
        "x_train[1]"
      ],
      "execution_count": null,
      "outputs": [
        {
          "output_type": "execute_result",
          "data": {
            "text/plain": [
              "array([ 0,  0,  0,  0,  0,  0,  0,  0,  0,  0,  0,  0,  0,  0,  0,  0,  0,\n",
              "        0,  0,  0,  0,  0,  0,  0,  0,  0,  0,  0,  0,  0,  0,  0,  0,  0,\n",
              "        0, 57, 45, 42, 18,  1], dtype=int32)"
            ]
          },
          "metadata": {},
          "execution_count": 24
        }
      ]
    },
    {
      "cell_type": "code",
      "metadata": {
        "id": "p-fmNPMmMgZA"
      },
      "source": [
        "import numpy as np\n",
        "import keras\n",
        "from keras.models import Sequential, Model\n",
        "from keras.layers import Dense, Dropout, Activation, Input, Embedding, Conv1D, GlobalMaxPool1D\n",
        "from keras.preprocessing.text import Tokenizer\n",
        "from keras.utils import pad_sequences\n",
        "from keras.callbacks import TensorBoard \n",
        "from keras.metrics import categorical_crossentropy\n",
        "from keras.callbacks import EarlyStopping  "
      ],
      "execution_count": null,
      "outputs": []
    },
    {
      "cell_type": "code",
      "source": [
        "y_train[:5]"
      ],
      "metadata": {
        "colab": {
          "base_uri": "https://localhost:8080/"
        },
        "id": "g8gJfKfv8TaW",
        "outputId": "0600e092-2876-4911-866a-a2c1d98ae8a5"
      },
      "execution_count": null,
      "outputs": [
        {
          "output_type": "execute_result",
          "data": {
            "text/plain": [
              "2680     5\n",
              "844      2\n",
              "18714    4\n",
              "13842    5\n",
              "11974    5\n",
              "Name: Rating, dtype: int64"
            ]
          },
          "metadata": {},
          "execution_count": 26
        }
      ]
    },
    {
      "cell_type": "code",
      "metadata": {
        "id": "EetYhxVnMgZB"
      },
      "source": [
        "num_classes = 6\n",
        "y_train = keras.utils.to_categorical(y_train, num_classes)\n",
        "y_test = keras.utils.to_categorical(y_test, num_classes)"
      ],
      "execution_count": null,
      "outputs": []
    },
    {
      "cell_type": "code",
      "metadata": {
        "id": "6Dt4YyrSMgZB"
      },
      "source": [
        "model = Sequential()\n",
        "model.add(Embedding(input_dim=max_words, output_dim=128, input_length=max_len))\n",
        "model.add(Conv1D(64, 3, 1, activation='relu'))\n",
        "model.add(Conv1D(64, 3, 2, activation='relu'))\n",
        "model.add(Conv1D(128, 3, 1, activation='relu'))\n",
        "model.add(Conv1D(128, 3, 2, activation='relu'))\n",
        "model.add(GlobalMaxPool1D())\n",
        "model.add(Dense(100, activation='relu'))\n",
        "model.add(Dense(num_classes, activation='softmax'))"
      ],
      "execution_count": null,
      "outputs": []
    },
    {
      "cell_type": "code",
      "metadata": {
        "id": "nbMXaTTZMgZC"
      },
      "source": [
        "model.compile(loss='categorical_crossentropy',\n",
        "              optimizer='adam',\n",
        "              metrics=['accuracy'])"
      ],
      "execution_count": null,
      "outputs": []
    },
    {
      "cell_type": "code",
      "metadata": {
        "id": "yRisairjMgZC",
        "outputId": "06d98eb8-ec5e-47e7-f07f-6fffb80c5bd2",
        "colab": {
          "base_uri": "https://localhost:8080/"
        }
      },
      "source": [
        "tensorboard=TensorBoard(log_dir='./logs', write_graph=True, write_images=True)\n",
        "early_stopping=EarlyStopping(monitor='val_loss', patience=5)  \n",
        "\n",
        "\n",
        "history = model.fit(x_train, y_train,\n",
        "                    batch_size=batch_size,\n",
        "                    epochs=30,\n",
        "                    verbose=1,\n",
        "                    validation_split=0.1,\n",
        "                    callbacks=[tensorboard, early_stopping])"
      ],
      "execution_count": null,
      "outputs": [
        {
          "output_type": "stream",
          "name": "stdout",
          "text": [
            "Epoch 1/30\n",
            "30/30 [==============================] - 5s 144ms/step - loss: 1.2605 - accuracy: 0.6818 - val_loss: 0.9674 - val_accuracy: 0.7120\n",
            "Epoch 2/30\n",
            "30/30 [==============================] - 4s 137ms/step - loss: 0.8979 - accuracy: 0.7268 - val_loss: 0.8649 - val_accuracy: 0.7344\n",
            "Epoch 3/30\n",
            "30/30 [==============================] - 4s 138ms/step - loss: 0.8473 - accuracy: 0.7410 - val_loss: 0.8377 - val_accuracy: 0.7411\n",
            "Epoch 4/30\n",
            "30/30 [==============================] - 4s 135ms/step - loss: 0.8333 - accuracy: 0.7464 - val_loss: 0.8309 - val_accuracy: 0.7417\n",
            "Epoch 5/30\n",
            "30/30 [==============================] - 4s 136ms/step - loss: 0.8271 - accuracy: 0.7490 - val_loss: 0.8445 - val_accuracy: 0.7411\n",
            "Epoch 6/30\n",
            "30/30 [==============================] - 4s 136ms/step - loss: 0.8240 - accuracy: 0.7504 - val_loss: 0.8300 - val_accuracy: 0.7423\n",
            "Epoch 7/30\n",
            "30/30 [==============================] - 4s 135ms/step - loss: 0.8193 - accuracy: 0.7516 - val_loss: 0.8297 - val_accuracy: 0.7441\n",
            "Epoch 8/30\n",
            "30/30 [==============================] - 4s 136ms/step - loss: 0.8144 - accuracy: 0.7527 - val_loss: 0.8318 - val_accuracy: 0.7435\n",
            "Epoch 9/30\n",
            "30/30 [==============================] - 4s 138ms/step - loss: 0.8114 - accuracy: 0.7541 - val_loss: 0.8492 - val_accuracy: 0.7405\n",
            "Epoch 10/30\n",
            "30/30 [==============================] - 5s 159ms/step - loss: 0.8100 - accuracy: 0.7536 - val_loss: 0.8436 - val_accuracy: 0.7393\n",
            "Epoch 11/30\n",
            "30/30 [==============================] - 5s 151ms/step - loss: 0.8027 - accuracy: 0.7568 - val_loss: 0.8403 - val_accuracy: 0.7411\n",
            "Epoch 12/30\n",
            "30/30 [==============================] - 4s 137ms/step - loss: 0.8005 - accuracy: 0.7576 - val_loss: 0.8513 - val_accuracy: 0.7411\n"
          ]
        }
      ]
    },
    {
      "cell_type": "code",
      "metadata": {
        "id": "gUQeNKRxMgZD",
        "outputId": "b65be12d-8d36-4550-c9cd-675045319722",
        "colab": {
          "base_uri": "https://localhost:8080/"
        }
      },
      "source": [
        "score = model.evaluate(x_test, y_test, batch_size=batch_size, verbose=1)\n",
        "print('\\n')\n",
        "print('Test score:', score[0])\n",
        "print('Test accuracy:', score[1])"
      ],
      "execution_count": null,
      "outputs": [
        {
          "output_type": "stream",
          "name": "stdout",
          "text": [
            "9/9 [==============================] - 0s 35ms/step - loss: 0.8826 - accuracy: 0.7406\n",
            "\n",
            "\n",
            "Test score: 0.8825774192810059\n",
            "Test accuracy: 0.7405614852905273\n"
          ]
        }
      ]
    },
    {
      "cell_type": "code",
      "metadata": {
        "id": "VtIeszxWMgZE",
        "outputId": "44cb6df0-d73f-4d1b-b0ab-380887af0420",
        "colab": {
          "base_uri": "https://localhost:8080/"
        }
      },
      "source": [
        "results = model.predict(x_test, batch_size=batch_size, verbose=1)"
      ],
      "execution_count": null,
      "outputs": [
        {
          "output_type": "stream",
          "name": "stdout",
          "text": [
            "9/9 [==============================] - 0s 32ms/step\n"
          ]
        }
      ]
    },
    {
      "cell_type": "code",
      "metadata": {
        "id": "LMIQIwctMgZE"
      },
      "source": [
        "from tensorflow.keras.layers import TextVectorization\n",
        "import tensorflow as tf\n",
        "\n",
        "vectorizer = TextVectorization(max_tokens=200, output_sequence_length=40)\n",
        "text_ds = tf.data.Dataset.from_tensor_slices(X_train).batch(128)\n",
        "vectorizer.adapt(text_ds)"
      ],
      "execution_count": null,
      "outputs": []
    },
    {
      "cell_type": "code",
      "source": [
        "vectorizer.get_vocabulary()[:5]"
      ],
      "metadata": {
        "colab": {
          "base_uri": "https://localhost:8080/"
        },
        "id": "T9xUbPAbkmLB",
        "outputId": "60cd3d02-579f-4252-db34-a66987ab34c9"
      },
      "execution_count": null,
      "outputs": [
        {
          "output_type": "execute_result",
          "data": {
            "text/plain": [
              "['', '[UNK]', 'приложение', 'удобно', 'работать']"
            ]
          },
          "metadata": {},
          "execution_count": 35
        }
      ]
    },
    {
      "cell_type": "code",
      "source": [
        "voc = vectorizer.get_vocabulary()\n",
        "word_index = dict(zip(voc, range(len(voc))))"
      ],
      "metadata": {
        "id": "7kk5Wz_GksEc"
      },
      "execution_count": null,
      "outputs": []
    },
    {
      "cell_type": "code",
      "source": [
        "#!wget https://rusvectores.org/ru/models/ruscorpora_upos_skipgram_300_10_2017 # я не нашел где там можно скачать эмбеддинги. Везде пишут что этот сайт для этого и создан, но не увидел ссылок на скачивание"
      ],
      "metadata": {
        "colab": {
          "base_uri": "https://localhost:8080/"
        },
        "id": "D3dZDCv-lGBV",
        "outputId": "359610f4-38e9-451b-9e38-a7001da43d0f"
      },
      "execution_count": null,
      "outputs": [
        {
          "output_type": "stream",
          "name": "stdout",
          "text": [
            "--2022-12-13 13:04:45--  https://rusvectores.org/ru/models/ruscorpora_upos_skipgram_300_10_2017\n",
            "Resolving rusvectores.org (rusvectores.org)... 172.104.228.108\n",
            "Connecting to rusvectores.org (rusvectores.org)|172.104.228.108|:443... connected.\n",
            "HTTP request sent, awaiting response... 308 PERMANENT REDIRECT\n",
            "Location: https://rusvectores.org/ru/models/ruscorpora_upos_skipgram_300_10_2017/ [following]\n",
            "--2022-12-13 13:04:45--  https://rusvectores.org/ru/models/ruscorpora_upos_skipgram_300_10_2017/\n",
            "Reusing existing connection to rusvectores.org:443.\n",
            "HTTP request sent, awaiting response... 303 SEE OTHER\n",
            "Location: https://rusvectores.org/ru/ [following]\n",
            "--2022-12-13 13:04:46--  https://rusvectores.org/ru/\n",
            "Reusing existing connection to rusvectores.org:443.\n",
            "HTTP request sent, awaiting response... 200 OK\n",
            "Length: 24948 (24K) [text/html]\n",
            "Saving to: ‘ruscorpora_upos_skipgram_300_10_2017’\n",
            "\n",
            "\r          ruscorpor   0%[                    ]       0  --.-KB/s               \rruscorpora_upos_ski 100%[===================>]  24.36K  --.-KB/s    in 0.008s  \n",
            "\n",
            "2022-12-13 13:04:46 (2.81 MB/s) - ‘ruscorpora_upos_skipgram_300_10_2017’ saved [24948/24948]\n",
            "\n"
          ]
        }
      ]
    },
    {
      "cell_type": "code",
      "source": [
        "#path_to_glove_file = os.path.join(os.path.expanduser(\"~\"), \".keras/datasets/glove.6B.100d.txt\")\n",
        "\n",
        "embeddings_index = {}\n",
        "with open('/content/ruscorpora_upos_skipgram_300_10_2017') as f:\n",
        "    for line in f:\n",
        "      print(line)\n",
        "      #word, coefs = line.split(maxsplit=1)\n",
        "      #coefs = np.fromstring(coefs, \"f\", sep=\" \")\n",
        "      #embeddings_index[word] = coefs\n",
        "\n",
        "print(\"Found %s word vectors.\" % len(embeddings_index))"
      ],
      "metadata": {
        "colab": {
          "base_uri": "https://localhost:8080/"
        },
        "id": "loQWSxsYlmop",
        "outputId": "a49f5420-bab2-4f1c-f2a5-8b4f2cdf2b6d"
      },
      "execution_count": null,
      "outputs": [
        {
          "output_type": "stream",
          "name": "stdout",
          "text": [
            "<!-- Look associates.html for more detailed comments -->\n",
            "\n",
            "<!DOCTYPE html>\n",
            "\n",
            "<html lang=\"ru\">\n",
            "\n",
            "<head>\n",
            "\n",
            "  <title>RusVectōrēs: семантические модели для русского языка</title>\n",
            "\n",
            "  <meta name=\"viewport\" content=\"width=device-width, initial-scale=1.0\">\n",
            "\n",
            "  <meta charset=\"utf-8\">\n",
            "\n",
            "  <meta http-equiv=\"X-UA-Compatible\" content=\"IE=edge\">\n",
            "\n",
            "  <meta name=\"description\" content=\"РусВекторес: дистрибутивная семантика для русского языка, веб-интерфейс и модели для скачивания\">\n",
            "\n",
            "  <meta name='wmail-verification' content='070c0f36f9e585407648627b86eb5861' />\n",
            "\n",
            "  <meta name=\"google-site-verification\" content=\"4GNnqehZ8sQRJ2VCkAhJsFGB7fJJzc5DwiD9rkIQ0P4\" />\n",
            "\n",
            "  <meta property=\"og:type\" content=\"website\" />\n",
            "\n",
            "  <meta property=\"og:site_name\" content=\"RusVectores\" />\n",
            "\n",
            "  <meta property=\"og:url\" content=\"https://rusvectores.org/ru/\" />\n",
            "\n",
            "  <meta property=\"og:title\" content=\"RusVectōrēs: семантические модели для русского языка\" />\n",
            "\n",
            "  <meta property=\"og:description\" content=\"РусВекторес: дистрибутивная семантика для русского языка, веб-интерфейс и модели для скачивания\" />\n",
            "\n",
            "  <meta name=\"twitter:image\" content=\"https://rusvectores.org/data/images/associates_rus.png/\" />\n",
            "\n",
            "  <meta property=\"og:image\" content=\"https://rusvectores.org/data/images/associates_rus.png/\" />\n",
            "\n",
            "  <meta property=\"vk:image\" content=\"https://rusvectores.org/data/images/associates_rus.png/\" />\n",
            "\n",
            "  <meta name=\"twitter:card\" content=\"summary\" />\n",
            "\n",
            "  <meta name=\"twitter:url\" content=\"https://rusvectores.org/ru/\" />\n",
            "\n",
            "  <meta name=\"twitter:title\" content=\"RusVectōrēs: семантические модели для русского языка\" />\n",
            "\n",
            "  <meta name=\"twitter:description\" content=\"РусВекторес: дистрибутивная семантика для русского языка, веб-интерфейс и модели для скачивания\" />\n",
            "\n",
            "  <meta name=\"dcterms.title\" content=\"RusVectōrēs: семантические модели для русского языка\" />\n",
            "\n",
            "  <meta name=\"dcterms.description\" content=\"РусВекторес: дистрибутивная семантика для русского языка, веб-интерфейс и модели для скачивания\" />\n",
            "\n",
            "  <!-- Bootstrap -->\n",
            "\n",
            "  <link href=\"/data/css/bootstrap.min.css/\" rel=\"stylesheet\" media=\"screen\">\n",
            "\n",
            "  <link href=\"/data/css/typeahead.css/\" rel=\"stylesheet\">\n",
            "\n",
            "  <link href=\"/data/css/avatar.css/\" rel=\"stylesheet\" media=\"screen\">\n",
            "\n",
            "  <link href=\"/data/css/results.css/\" rel=\"stylesheet\" media=\"screen\">\n",
            "\n",
            "  <link href=\"/data/css/radio-and-checkbox.css/\" rel=\"stylesheet\" media=\"screen\">\n",
            "\n",
            "</head>\n",
            "\n",
            "<body>\n",
            "\n",
            "<nav class=\"navbar navbar-primary navbar-fixed-top\">\n",
            "\n",
            "  <div class=\"container\">\n",
            "\n",
            "    <div class=\"navbar-header\">\n",
            "\n",
            "      <button type=\"button\" class=\"navbar-toggle collapsed\" data-toggle=\"collapse\" data-target=\"#navbar\" aria-expanded=\"false\" aria-controls=\"navbar\">\n",
            "\n",
            "      <span class=\"sr-only\">Показать/скрыть меню</span>\n",
            "\n",
            "      <span class=\"icon-bar\"></span>\n",
            "\n",
            "      <span class=\"icon-bar\"></span>\n",
            "\n",
            "      <span class=\"icon-bar\"></span>\n",
            "\n",
            "      </button>\n",
            "\n",
            "      <a class=\"navbar-brand\" href=\"https://rusvectores.org/ru/\">RusVectōrēs</a>\n",
            "\n",
            "    </div>\n",
            "\n",
            "    <div id=\"navbar\" class=\"collapse navbar-collapse\">\n",
            "\n",
            "      <ul class=\"nav navbar-nav\">\n",
            "\n",
            "        <li><a href=\"/ru/associates/\">Похожие слова</a></li>\n",
            "\n",
            "        <li><a href=\"/ru/visual/\">Визуализации</a></li>\n",
            "\n",
            "        <li><a href=\"/ru/calculator/\">Калькулятор</a></li>\n",
            "\n",
            "        <li><a href=\"/ru/contextual/\">2D-текст</a></li>\n",
            "\n",
            "        <li><a href=\"/ru/misc/\">Различные операции</a></li>\n",
            "\n",
            "        <li><a href=\"/ru/models/\">Модели</a></li>\n",
            "\n",
            "        <li><a href=\"/ru/about/\">О&nbsp;проекте</a></li>\n",
            "\n",
            "        <li><a title=\"Switch language\" href=\"/en/\">EN/RU</a></li>\n",
            "\n",
            "      </ul>\n",
            "\n",
            "    </div>\n",
            "\n",
            "    <!--/.nav-collapse -->\n",
            "\n",
            "  </div>\n",
            "\n",
            "</nav>\n",
            "\n",
            "<div class=\"container\">\n",
            "\n",
            "  <div class=\"starter-template\">\n",
            "\n",
            "    <span><br><br><br></span>\n",
            "\n",
            "<h1 style=\"text-align:center\">RusVectōrēs: семантические модели для русского языка</h1>\n",
            "\n",
            "<p style=\"text-align:center;\" class=\"lead\"><i>сервис, в котором вы можете исследовать семантические отношения между словами при помощи дистрибутивных моделей.</i></p>\n",
            "\n",
            "<p style=\"text-align:center;\" class=\"alert-warning\">Мы против войны, которую развязала Россия; поэтому сейчас по умолчанию сервис использует модель, обученную на <b>украинской</b> Википедии и CommonCrawl. <br/> Выбрать другие модели (в том числе русские) можно на вкладке <a href=\"associates/\">Похожие слова</a> и других вкладках.</p>\n",
            "\n",
            "<!-- Request field -->\n",
            "\n",
            "<br/>\n",
            "\n",
            "<p style=\"text-align:center\">Введите слово, чтобы получить список из&nbsp;10&nbsp;его ближайших семантических ассоциатов (квази-синонимов):</p>\n",
            "\n",
            "<div id=\"queryform\">\n",
            "\n",
            "  <form id=\"inputform\" style=\"text-align:center\" action=\"#\" method=post>\n",
            "\n",
            "    <div class=\"form-group\"><input type=\"text\" class=\"typeahead\" id=\"query\" name=\"list_query\" value=\"спрати_NOUN\" maxlength=100>\n",
            "\n",
            "      </div>\n",
            "\n",
            "    <button type=\"submit\" class=\"btn btn-primary\" id=\"send\" name=\"list_query\">Найти похожие слова!</button>\n",
            "\n",
            "  </form>\n",
            "\n",
            "</div>\n",
            "\n",
            "\n",
            "\n",
            "<!-- Featuring results --><!-- If there was no user query, show links to other pages (similar words, etc.) -->\n",
            "\n",
            "  <span><br><br><br></span>\n",
            "\n",
            "<div class=\"container\">\n",
            "\n",
            "  <div class=\"starter-template\">\n",
            "\n",
            "    <div class=\"row\" style=\"text-align:center;max-width:900px;margin:auto\">\n",
            "\n",
            "      <div class=\"col-md-6\">\n",
            "\n",
            "        <div class=\"avatarlarge\" style=\"clear:both;\">\n",
            "\n",
            "          <a href=\"/ru/associates/\">\n",
            "\n",
            "            <div class=\"tint\">\n",
            "\n",
            "              <img class=\"img-responsive\" src = \"/data/images/associates_rus.png\" alt = \"Похожие слова\" title = \"Похожие слова\">\n",
            "\n",
            "              <div class=\"centered\">\n",
            "\n",
            "                <h2>Похожие слова</h2>\n",
            "\n",
            "              </div>\n",
            "\n",
            "            </div>\n",
            "\n",
            "          </a>\n",
            "\n",
            "        </div>\n",
            "\n",
            "      </div>\n",
            "\n",
            "      <div class=\"col-md-6\">\n",
            "\n",
            "        <div class=\"avatarlarge\" style=\"clear:both;\">\n",
            "\n",
            "          <a href=\"/ru/visual/\">\n",
            "\n",
            "            <div class=\"tint\">\n",
            "\n",
            "              <img class=\"img-responsive\" src = \"/data/images/visual_rus.png\" alt = \"Визуализации\" title = \"Визуализации\">\n",
            "\n",
            "              <div class=\"centered\">\n",
            "\n",
            "                <h2>Визуализации</h2>\n",
            "\n",
            "              </div>\n",
            "\n",
            "            </div>\n",
            "\n",
            "          </a>\n",
            "\n",
            "        </div>\n",
            "\n",
            "      </div>\n",
            "\n",
            "    </div>\n",
            "\n",
            "    <!--span><br><br></span-->\n",
            "\n",
            "    <div class=\"row\" style=\"text-align:center;max-width:900px;margin:auto\">\n",
            "\n",
            "      <div class=\"col-md-6\">\n",
            "\n",
            "        <div class=\"avatarlarge\" style=\"clear:both;\">\n",
            "\n",
            "          <a href=\"/ru/calculator/\">\n",
            "\n",
            "            <div class=\"tint\">\n",
            "\n",
            "              <img class=\"img-responsive\" src = \"/data/images/calculator_rus.png\" alt = \"Калькулятор\" title = \"Калькулятор\">\n",
            "\n",
            "              <div class=\"centered\">\n",
            "\n",
            "                <h2>Калькулятор</h2>\n",
            "\n",
            "              </div>\n",
            "\n",
            "            </div>\n",
            "\n",
            "          </a>\n",
            "\n",
            "        </div>\n",
            "\n",
            "      </div>\n",
            "\n",
            "      <div class=\"col-md-6\">\n",
            "\n",
            "        <div class=\"avatarlarge\" style=\"clear:both;\">\n",
            "\n",
            "          <a href=\"/ru/misc/\">\n",
            "\n",
            "            <div class=\"tint\">\n",
            "\n",
            "              <img class=\"img-responsive\" src = \"/data/images/misc_rus.png\" alt = \"Различные операции\" title = \"Различные операции\">\n",
            "\n",
            "              <div class=\"centered\">\n",
            "\n",
            "                <h2>Различные операции</h2>\n",
            "\n",
            "              </div>\n",
            "\n",
            "            </div>\n",
            "\n",
            "          </a>\n",
            "\n",
            "        </div>\n",
            "\n",
            "      </div>\n",
            "\n",
            "    </div>\n",
            "\n",
            "  </div>\n",
            "\n",
            "</div>\n",
            "\n",
            "<h3>Новости проекта <a href=\"https://t.me/rusvectores\" target=\"_blank\"><img src=\"/data/images/telegram.png/\" width=\"25\" alt = \"Telegram\" title = \"Telegram\"></a> \n",
            "\n",
            "<a href=\"/data/rss.xml/\"><img src=\"/data/images/rss.png/\" width=\"25\" alt = \"RSS\" title = \"RSS\"></a></h3>\n",
            "\n",
            "      <ul style=\"max-height: 300px; overflow-y: scroll;\">\n",
            "\n",
            "        <li>29/07/2022&nbsp;&#8212; Мы против войны и мы солидарны с Украиной. Поэтому сейчас RusVectōrēs по умолчанию переключен на <a href=\"/ru/models/#ukrconll_upos_cbow_200_10_2022\">модель, обученную на <b>украинской</b> Википедии и CommonCrawl</a>. Прежние модели по-прежнему доступны для выбора в соответствующих вкладках или через API.</li>\n",
            "\n",
            "        <li>10/12/2021&nbsp;&#8212; Новая статическая модель <a href=\"/ru/models/#ruwikiruscorpora_upos_cbow_300_10_2021\">ruwikiruscorpora_upos_cbow_300_10_2021</a>, обученная на НКРЯ и дампе русской Википедии за ноябрь 2021 года. Теперь со всеми новыми коронавирусными неологизмами!</li>\n",
            "\n",
            "        <li>26/08/2021&nbsp;&#8212; Теперь на <a href=\"/ru/visual/\">странице визуализаций</a> доступны графики, полученные методом PCA (в дополнение к t-SNE). Их преимущество состоит в детерминированности: в отличие от t-SNE, PCA-проекция для данных слов и модели всегда одинакова. Кроме того, исправлено множество мелких ошибок.</li>\n",
            "\n",
            "        <li>18/01/2021&nbsp;&#8212; Мы представляем новый <a href=\"/ru/contextual/\">сервис генерации контекстно-зависимых подстановок из моделей ELMo</a> в реальном времени. Вы вводите предложение и получаете для каждого слова список его ближайших семантических ассоциатов, причём ассоциаты зависят от контекста, окружающего слово. Это даёт возможность изучать и демонстрировать лексическую неоднозначность.</li>\n",
            "\n",
            "        <li>22/10/2020&nbsp;&#8212; Большое пополнение в <a href=\"/ru/models/\">парке моделей</a>. Во-первых, выложены две fastText-модели, обученные на <a href=\"https://www.earthlings.io/download_geowac.html\">GeoWAC</a>: это большой веб-корпус русского языка, сбалансированный по географии. Первая модель (<i>geowac_lemmas_none_fasttextskipgram_300_5_2020</i>) обучена на леммах, вторая (<i>geowac_tokens_none_fasttextskipgram_300_5_2020</i>) на сырых токенах: это первая такая статическая модель на RusVectōrēs. Лемматизированная модель доступна для использования в том числе через веб-интерфейс. Во-вторых, выложена ELMo-модель, обученная на большом корпусе Araneum Russicum Maximum (<i>araneum_lemmas_elmo_2048_2020</i>). В-третьих, для работы с ELMo-моделями мы подготовили <a href=\"https://pypi.org/project/simple-elmo/\"><b>simple_elmo</b>: удобную библиотеку на Python</a>.</li>\n",
            "\n",
            "        <li>01/09/2020&nbsp;&#8212; 1 сентября напоминаем о наших сайд-проектах. Во-первых, это <a href=\"https://nlp.rusvectores.org/\">RusNLP</a>: поисковик по статьям, опубликованным на российских конференциях по компьютерной лингвистике. Во-вторых, это <a href=\"https://shiftry.rusvectores.org/\">ShiftRy</a>: веб-сервис для анализа диахронических изменений в употреблении слов в российских новостях.</li>\n",
            "\n",
            "        <li>31/01/2020&nbsp;&#8212; <a href=\"/ru/models/\">Выложена большая модель ELMo, обученная на корпусе Tayga</a>, а также <a href=\"https://github.com/ltgoslo/simple_elmo\">готовый код для работы с такими моделями</a>. </li>\n",
            "\n",
            "        <li>22/11/2019&nbsp;&#8212; Рядом со списками ближайших соседей слова теперь отображаются динамические интерактивные графы связей между соседями (используется библиотека <a href=\"https://github.com/lizaku/vec2graph\">vec2graph</a>).</li>\n",
            "\n",
            "        <li>26/08/2019&nbsp;&#8212; <a href=\"/ru/models/\">Выложены контекстуализированные модели на алгоритме ELMo</a>, обученные на лемматизированных и сырых корпусах.</li>\n",
            "\n",
            "        <li>22/04/2019&nbsp;&#8212; В списках ближайших ассоциатов во всех вкладках теперь по умолчанию показываются только <span style='color: green;'>высокочастотные</span> и <span style='color: blue;'>среднечастотные</span> слова. Для изменения этого поведения появились чекбоксы с уровнями частотности: например, вы можете включить показ <span style='color: red;'>низкочастотных</span> ассоциатов. Это позволяет гибко регулировать баланс между качеством и полнотой результатов.</li>\n",
            "\n",
            "        <li>28/01/2019&nbsp;&#8212; Обновлен <a href=\"https://github.com/akutuzov/webvectors/blob/master/preprocessing/rusvectores_tutorial.ipynb\" target=\"_blank\">тьюториал RusVectōrēs</a>. Он показывает, как привести слова к виду, использующемуся в наших моделях, а также как работать с самими моделями с учетом обновлений 2019 года.</li>\n",
            "\n",
            "        <li>18/01/2019&nbsp;&#8212; Выложены новые модели к новому 2019 году; <a href=\"/ru/rusvectores5/\">подробное описание изменений</a>.</li>\n",
            "\n",
            "        <li>21/12/2018&nbsp;&#8212; Опубликованы <a href=\"/ru/survey/\">итоги анализа аудитории RusVectōrēs</a>, полюбопытствуйте.</li>\n",
            "\n",
            "        <li>27/11/2018&nbsp;&#8212; Нам важно ваше мнение! Совместно со студентами магистратуры по компьютерной лингвистике НИУ ВШЭ мы предлагаем вам пройти <a href=\"https://docs.google.com/forms/d/1tZrrL7Va0PqfJBmwA4Icmp5gPVnE-vgPNxm5MxVFZ1A\" target=\"_blank\">небольшой опрос</a> о RusVectōrēs.</li>\n",
            "\n",
            "        <li>22/09/2018&nbsp;&#8212; Заработал <a href=\"http://t.me/rusvectores_bot\">бот RusVectōrēs в мессенджере Telegram</a>; кроме того, улучшено качество частеречного тэггера для пользовательских запросов.</li>\n",
            "\n",
            "        <li>20/06/2018&nbsp;&#8212; Добавлена <a href=\"https://rusvectores.org/ru/models/#taiga_upos_skipgram_300_2_2018\">модель</a>, обученная на <a href=\"https://tatianashavrina.github.io/taiga_site/\" target=\"_blank\">структурированном веб-корпусе «Тайга»</a>, представленном на конференции \"Диалог\" в начале июня.</li>\n",
            "\n",
            "        <li>11/05/2018&nbsp;&#8212; Мы разработали <a href=\"https://github.com/akutuzov/webvectors/blob/master/preprocessing/rusvectores_tutorial.ipynb\">тьюториал</a>, в котором объясняем, как привести текст к нужному для работы с моделью формату, как работать с векторами слов в модели и как обращаться к API <i>RusVectōrēs</i>.</li>\n",
            "\n",
            "        <li>26/03/2018&nbsp;&#8212; Модели с <i>RusVectōrēs</i> заняли топовые места в <a target=\"_blank\" href=\"https://arxiv.org/abs/1803.05795v1\">соревновании по извлечению лексических смыслов (word sense induction) RUSSE'18</a>. Кроме того, выложена <a href=\"https://rusvectores.org/ru/models/#araneum_none_fasttextcbow_300_5_2018\">новая fastText-модель на корпусе Araneum</a>, использующая не только 3-граммы, но и 4- и 5-граммы.</li>\n",
            "\n",
            "        <li>05/01/2018&nbsp;&#8212; Модели на <i>fastText</i> и имена собственные в частеречных тэгах: почитайте наш <a href=\"/ru/rusvectores4/\">отчёт о&nbsp;проделанной работе за&nbsp;2017 год</a>.</li>\n",
            "\n",
            "        <li>09/08/2017&nbsp;&#8212; Добавлена модель, обученная на&nbsp;одном из&nbsp;крупнейших русских веб-корпусов&nbsp;&#8212; <a href=\"/ru/models/#araneum\">Araneum Russicum Maximum</a> (около 10&nbsp;миллиардов слов). Кроме того, все модели переоценены на&nbsp;более консистентном тестовом сете RuSimLex965.</li>\n",
            "\n",
            "        <li>30/06/2017&nbsp;&#8212; Существенно переработаны возможности <a href=\"/ru/visual/\">визуализации</a>. Теперь вы&nbsp;можете задавать несколько наборов слов: в&nbsp;визуализациях они будут раскрашены разными цветами. Если набор слов один, цвета будут соответствовать частям речи. Кроме того, одним кликом мыши можно визуализировать ваши данные в&nbsp;<a target=\"_blank\" href=\"http://projector.tensorflow.org/\">TensorFlow Embedding Projector</a>.</li>\n",
            "\n",
            "        <li>09/03/2017&nbsp;&#8212; На&nbsp;<a href=\"/ru/models/\">отдельной странице с&nbsp;моделями</a> теперь можно скачать не&nbsp;только текущие модели, но&nbsp;и&nbsp;архивные, а&nbsp;также сравнить их&nbsp;друг с&nbsp;другом. Кроме того, мы&nbsp;добавили ссылки на&nbsp;русскоязычные тестовые сеты и&nbsp;на&nbsp;таблицу конверсии из&nbsp;тэгов Mystem в&nbsp;Universal PoS Tags.</li>\n",
            "\n",
            "        <li>12/02/2017&nbsp;&#8212; Почитайте наш <a href=\"/ru/rusvectores3/\">отчёт о&nbsp;проделанной работе за&nbsp;2016 год</a> и&nbsp;посмотрите <a href=\"/ru/rusvectores3/\">новый скринкаст о&nbsp;работе с&nbsp;RusVectōrēs</a>.</li>\n",
            "\n",
            "        <li>02/02/2017&nbsp;&#8212; Существенно обновлены модели: новостной корпус теперь покрывает события вплоть до&nbsp;ноября 2016, дамп Википедии также обновлён до&nbsp;этой&nbsp;же даты. Кроме того, частеречные тэги переведены на&nbsp;стандарт <a href=\"http://universaldependencies.org/u/pos/all.html\">Universal Tags</a>, а&nbsp;в&nbsp;словарях моделей появились двусловные словосочетания (биграммы).</li>\n",
            "\n",
            "        <li>18/11/2016&nbsp;&#8212; API дополнен возможностью делать запросы о&nbsp;семантической схожести пар слов. Формат запроса: https://rusvectores.org/MODEL/WORD1__WORD2/api/similarity/</li>\n",
            "\n",
            "        <li>22/10/2016&nbsp;&#8212; Появились подсказки при вводе запроса. NB: подсказки не&nbsp;полностью покрывают лексикон моделей. Если слово не&nbsp;появляется в&nbsp;подсказках, это не&nbsp;обязательно значит, что модели его не&nbsp;знают: возможно, оно просто редкое и&nbsp;странное.</li>\n",
            "\n",
            "        <li>01/07/2016&nbsp;&#8212; По&nbsp;соображениям безопасности, отключена возможность автоматически обучать модели на&nbsp;пользовательских корпусах. Тем не&nbsp;менее, если у&nbsp;вас есть интересный корпус, <a href=\"https://rusvectores.org/ru/contacts/\">напишите нам</a>, и&nbsp;мы&nbsp;обязательно обучим для вас модель.</li>\n",
            "\n",
            "        <li>07/04/2016&nbsp;&#8212; Исходный код RusVectōrēs полностью выложен на&nbsp;Github под названием <a href=\"https://github.com/akutuzov/webvectors\">Webvectors</a>.</li>\n",
            "\n",
            "        <li>04/04/2016&nbsp;&#8212; Появилась возможность получать данные по&nbsp;API в&nbsp;формате json. Пример запроса&nbsp;&#8212; <a href=\"https://rusvectores.org/news/праздник/api/json/\">https://rusvectores.org/news/праздник/api/json/</a></li>\n",
            "\n",
            "        <li>15/03/2016&nbsp;&#8212; На&nbsp;движке RusVectōrēs запущен <a href=\"http://ltr.uio.no/semvec/\">веб-сервис с&nbsp;дистрибутивными моделями для английского и&nbsp;норвежского языков</a>.</li>\n",
            "\n",
            "        <li>03/02/2016&nbsp;&#8212; Исправлена ошибка, приводящая к&nbsp;невозможности <a href=\"/ru/upload\">обучить собственную модель</a>.</li>\n",
            "\n",
            "        <li>22/12/2015&nbsp;&#8212; Официально запущена версия <a href=\"/ru/christmas/\">RusVectōrēs 2.0: Christmas Edition</a>.</li>\n",
            "\n",
            "        <li>16/12/2015&nbsp;&#8212; Обновлена <a href=\"/models/\">модель на&nbsp;корпусе новостей</a>. Теперь она обучена на&nbsp;текстах вплоть до&nbsp;ноября 2015.</li>\n",
            "\n",
            "        <li>15/12/2015&nbsp;&#8212; В&nbsp;<a href=\"/associates/\">&laquo;Похожие слова&raquo;</a> добавлен фильтр &laquo;Часть речи запроса&raquo;.</li>\n",
            "\n",
            "        <li>11/12/2015&nbsp;&#8212; Реализован API, отдающий ближайшие десять соседей для данных слова и&nbsp;модели. Результат можно получить в&nbsp;двух форматах: json и&nbsp;csv. Пример: <a href=\"https://rusvectores.org/news/удар/api/csv/\">https://rusvectores.org/news/удар/api/csv/</a> или <a href=\"https://rusvectores.org/news/удар/api/json/\">https://rusvectores.org/news/удар/api/json/</a></li>\n",
            "\n",
            "      </ul>\n",
            "\n",
            "    <div class=\"text-nowrap\">\n",
            "\n",
            "      <hr>\n",
            "\n",
            "     <p style=\"text-align:right;\"><small><a href='/ru/contacts/'>Команда RusVectōrēs</a></small></p>\n",
            "\n",
            "     <p style='text-align:right;'><a href=\"https://uio.no\"><img width='50' src=\"/data/images/uio.png/\" title='Университет Осло' alt='Университет Осло'></a></p>\n",
            "\n",
            "     <p style=\"text-align:right;\"><small><a rel=\"license\" href=\"https://creativecommons.org/licenses/by/4.0/deed.ru\">\n",
            "\n",
            "     <img alt=\"Лицензия Creative Commons\" title=\"Лицензия Creative Commons\" style=\"border-width:0\" src=\"/data/images/88x31.png/\" /></a></small>\n",
            "\n",
            "     </p>\n",
            "\n",
            "    </div>\n",
            "\n",
            "  </div>\n",
            "\n",
            "</div>\n",
            "\n",
            "<script src=\"https://ajax.googleapis.com/ajax/libs/jquery/1.11.2/jquery.min.js\"></script>\n",
            "\n",
            "<script src=\"https://d3js.org/d3.v3.min.js\"></script>\n",
            "\n",
            "<script src=\"/data/js/bootstrap.min.js/\"></script>\n",
            "\n",
            "<!-- IE10 viewport hack for Surface/desktop Windows 8 bug -->\n",
            "\n",
            "<script src=\"/data/js/ie10-viewport-bug-workaround.js/\"></script>\n",
            "\n",
            "<script src=\"/data/js/typeahead/bloodhound.min.js/\"></script>\n",
            "\n",
            "<script src=\"/data/js/typeahead/typeahead.bundle.min.js/\"></script>\n",
            "\n",
            "<script src=\"/data/js/hint.js/\"></script>\n",
            "\n",
            "<script src=\"/data/js/addfield.js/\"></script>\n",
            "\n",
            "<script src=\"/data/js/sorttable.js/\"></script>\n",
            "\n",
            "<script src=\"/data/js/filter.js/\"></script>\n",
            "\n",
            "<script src=\"/data/js/genviz.js\"></script>\n",
            "\n",
            "</body>\n",
            "\n",
            "</html>\n",
            "Found 0 word vectors.\n"
          ]
        }
      ]
    },
    {
      "cell_type": "code",
      "source": [
        "num_tokens = len(voc) + 2\n",
        "embedding_dim = 100\n",
        "hits = 0\n",
        "misses = 0\n",
        "\n",
        "# Prepare embedding matrix\n",
        "embedding_matrix = np.zeros((num_tokens, embedding_dim))\n",
        "for word, i in word_index.items():\n",
        "    embedding_vector = embeddings_index.get(word)\n",
        "    if embedding_vector is not None:\n",
        "        # Words not found in embedding index will be all-zeros.\n",
        "        # This includes the representation for \"padding\" and \"OOV\"\n",
        "        embedding_matrix[i] = embedding_vector\n",
        "        hits += 1\n",
        "    else:\n",
        "        misses += 1\n",
        "print(\"Converted %d words (%d misses)\" % (hits, misses))"
      ],
      "metadata": {
        "id": "MZ5PIUr-l3YH"
      },
      "execution_count": null,
      "outputs": []
    },
    {
      "cell_type": "code",
      "source": [
        "from tensorflow.keras.layers import Embedding\n",
        "\n",
        "embedding_layer = Embedding(\n",
        "    num_tokens,\n",
        "    embedding_dim,\n",
        "    embeddings_initializer=keras.initializers.Constant(embedding_matrix),\n",
        "    trainable=False,\n",
        ")"
      ],
      "metadata": {
        "id": "zdM0XRTnm2IR"
      },
      "execution_count": null,
      "outputs": []
    }
  ]
}